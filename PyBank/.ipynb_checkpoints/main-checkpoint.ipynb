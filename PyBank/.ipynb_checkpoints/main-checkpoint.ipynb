{
 "cells": [
  {
   "cell_type": "code",
   "execution_count": 1,
   "id": "ab6bbbb6-ad66-4d3f-bd11-9ad6c84ee908",
   "metadata": {},
   "outputs": [],
   "source": [
    "# Import the the required libraries\n",
    "import csv\n",
    "import pandas as pd"
   ]
  },
  {
   "cell_type": "code",
   "execution_count": 2,
   "id": "d34cef1f-51c2-4b06-bca6-85af5601cd2e",
   "metadata": {},
   "outputs": [
    {
     "name": "stdout",
     "output_type": "stream",
     "text": [
      "        Date  Profit/Losses\n",
      "0   Jan-2010         867884\n",
      "1   Feb-2010         984655\n",
      "2   Mar-2010         322013\n",
      "3   Apr-2010         -69417\n",
      "4   May-2010         310503\n",
      "..       ...            ...\n",
      "81  Oct-2016         102685\n",
      "82  Nov-2016         795914\n",
      "83  Dec-2016          60988\n",
      "84  Jan-2017         138230\n",
      "85  Feb-2017         671099\n",
      "\n",
      "[86 rows x 2 columns]\n"
     ]
    }
   ],
   "source": [
    "# Read the csv file\n",
    "budget_data = pd.read_csv('budget_data.csv')\n",
    "print(budget_data)"
   ]
  },
  {
   "cell_type": "code",
   "execution_count": 9,
   "id": "4429b501-d967-42e4-a6e6-a06da689b5ab",
   "metadata": {},
   "outputs": [],
   "source": [
    "# Initialise all the variables needed\n",
    "total_months = len(budget_data)\n",
    "net_pnl = 0\n",
    "max_profit = 0\n",
    "max_profit_date = 0\n",
    "max_loss = 0\n",
    "max_loss_date = 0"
   ]
  },
  {
   "cell_type": "code",
   "execution_count": 9,
   "id": "7573676a-a4e2-4484-bb69-8a5a1e5d87c9",
   "metadata": {},
   "outputs": [],
   "source": [
    "# Iterate through the data and calculate net pnl, max profit and max loss\n",
    "for i in range(len(budget_data)):\n",
    "    net_pnl += budget_data.iloc[i][1]\n",
    "    \n",
    "    if i != 0: \n",
    "        if budget_data.iloc[i][1] > max_profit:\n",
    "            max_profit_date = budget_data.iloc[i][0]\n",
    "            max_profit = budget_data.iloc[i][1] - budget_data.iloc[i-1][1]\n",
    "        if float(budget_data.iloc[i][1]) < max_loss:\n",
    "            max_loss_date = budget_data.iloc[i][0]\n",
    "            max_loss = budget_data.iloc[i][1] - budget_data.iloc[i-1][1]\n",
    "\n",
    "# calculate the average change in pnl\n",
    "avg_chg = round((budget_data.iloc[-1][1] - budget_data.iloc[0][1])/(total_months - 1), 2)"
   ]
  },
  {
   "cell_type": "code",
   "execution_count": 10,
   "id": "cf60c2e2-1578-467c-b1cf-518232008310",
   "metadata": {},
   "outputs": [
    {
     "name": "stdout",
     "output_type": "stream",
     "text": [
      "Financial Analysis\n",
      "----------------------------\n",
      "Total Months: 86\n",
      "Total: $38382578\n",
      "Average Change: $-2315.12\n",
      "Greatest Decrease in Profits: Feb-2012 ($1926159)\n",
      "Greatest Decrease in Profits: Sep-2013 ($-2196167)\n"
     ]
    }
   ],
   "source": [
    "# Print the results onto the console\n",
    "print(\"Financial Analysis\")\n",
    "print(\"----------------------------\")\n",
    "print(f\"Total Months: {total_months}\")\n",
    "print(f\"Total: ${net_pnl}\")\n",
    "print(f\"Average Change: ${avg_chg}\")\n",
    "print(f\"Greatest Decrease in Profits: {max_profit_date} (${max_profit})\")\n",
    "print(f\"Greatest Decrease in Profits: {max_loss_date} (${max_loss})\")"
   ]
  },
  {
   "cell_type": "code",
   "execution_count": 12,
   "id": "20ad4288-8530-4da3-8b1d-3f7453a61370",
   "metadata": {},
   "outputs": [],
   "source": [
    "# Print the results into a text file named output.txt\n",
    "out = open(\"output.txt\", \"w\")\n",
    "\n",
    "out.write(\"Financial Analysis\\n\")\n",
    "out.write(\"----------------------------\\n\")\n",
    "out.write(f\"Total Months: {total_months}\\n\")\n",
    "out.write(f\"Total: ${net_pnl}\\n\")\n",
    "out.write(f\"Average Change: ${avg_chg}\\n\")\n",
    "out.write(f\"Greatest Decrease in Profits: {max_profit_date} (${max_profit})\\n\")\n",
    "out.write(f\"Greatest Decrease in Profits: {max_loss_date} (${max_loss})\\n\")\n",
    "\n",
    "out.close()"
   ]
  }
 ],
 "metadata": {
  "kernelspec": {
   "display_name": "Python 3",
   "language": "python",
   "name": "python3"
  },
  "language_info": {
   "codemirror_mode": {
    "name": "ipython",
    "version": 3
   },
   "file_extension": ".py",
   "mimetype": "text/x-python",
   "name": "python",
   "nbconvert_exporter": "python",
   "pygments_lexer": "ipython3",
   "version": "3.8.8"
  }
 },
 "nbformat": 4,
 "nbformat_minor": 5
}
