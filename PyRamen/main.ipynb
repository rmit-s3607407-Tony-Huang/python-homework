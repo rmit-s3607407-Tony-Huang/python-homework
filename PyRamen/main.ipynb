{
 "cells": [
  {
   "cell_type": "code",
   "execution_count": 1,
   "id": "d2425983-d9f3-4c66-8c1b-666c20606115",
   "metadata": {},
   "outputs": [],
   "source": [
    "from pathlib import Path\n",
    "import csv\n",
    "import pprint"
   ]
  },
  {
   "cell_type": "code",
   "execution_count": 2,
   "id": "95ae7011-6075-4659-947f-d090f3937695",
   "metadata": {},
   "outputs": [
    {
     "name": "stdout",
     "output_type": "stream",
     "text": [
      "[['item', 'category', 'description', 'price', 'cost'], ['edamame', 'appetizers', 'boiled soybeans, maldon sea salt', '4', '1'], ['house salad', 'appetizers', 'mixed greens, cherry tomatoes, cucumber, house ginger dressing', '4', '2'], ['cucumber sunomono salad', 'appetizers', 'cucumber, ponzu dressing, pickled ginger sproud, sesame seeds', '5', '2'], ['hiyashi wakame seaweed salad', 'appetizers', 'sweet soy-marinated wakame seaweed threads, pickled ginger sprout, sesame seeds', '5', '2'], ['agedashi tofu', 'appetizers', 'tempura battered tofu, katsuobushi, tsuyu broth, scallions', '5', '2'], ['hiyayakko tofu', 'appetizers', 'chilled soft tofu, house shoyu, katsuobushi, ginger, scallions', '5', '2'], ['pork floss bao', 'appetizers', 'two steamed buns, minced lean slow braised niman, ranch pork belly, cucumbers, sriracha mayo', '4', '2'], ['kakuni bao', 'appetizers', 'two steamed buns, chopped fatty slow braised niman ranch pork belly, cucumbers, house bao sauce', '6', '3'], ['edamame fried gyoza (vegan)', 'appetizers', 'six crispy fried edamame and cabbage pot stickers; ponzu rayu dipping sauce', '6', '3'], ['fried gyoza', 'appetizers', 'six cripsy fried pork and vegetable pot stickers; ponzu rayu dipping sauce', '6', '6'], ['takoyaki', 'appetizers', 'six octopus-filled fried fritters, kewpie mayo, okonomi sauce, aonori, katsuobushi, nori', '6', '3'], ['rock shrimp tempura', 'appetizers', 'deep fried tempura battered rock shrimp, sriracha mayo, nisume sauce, aonori, scallions', '6', '3'], ['soft-shell crab tempura', 'appetizers', 'single deep fried soft-shell crab, tsuyu dipping broth', '6', '3'], ['ebi katsu shrimp bao', 'appetizers', 'two steamed buns, panko-crusted fried shrimp patties, yuzu-kosho mayo, aonori, scallions', '6', '3'], ['nagomi shoyu', 'entree', 'shoyu seasoned clear double stock (organic chick broth + house dashi); slow braised niman ranch pork belly, hanjuku tamago, nori, menma, scallions', '11', '5'], ['shio ramen', 'entree', 'sea salt seasoned clear double stock (organic chicken broth + house dashi); slow braised niman ranch pork belly, hanjuku tamago, kikurage, nori, scallions', '11', '5'], ['spicy miso ramen', 'entree', 'house togarashi miso blend + niman ranch pork bone stock; slow braised niman ranch pork belly, hanjuku tamago, kikurage, nori, scallions', '12', '5'], ['vegetarian spicy miso', 'entree', 'house togarashi miso blend + vegan dashi; tempura fried tofu, sweet corn, edamame, kikurage, nori, scallions; organic soy milk upon request', '12', '5'], ['miso crab ramen', 'entree', 'house miso crab blend + vegan dashi; slow braised niman ranch pork belly, crab meat, hanjuku tamago, kikurage, nori, scallions', '12', '6'], ['soft-shell miso crab ramen', 'entree', 'house miso crab blend + vegan dashi; fried whole soft-shell crab, hanjuku tamago, kikurage, nori, scallions', '14', '7'], ['tori paitan ramen', 'entree', 'rich, shoyu seasoned double stock (organic chicken broth + house dashi); slow braised niman ranch pork belly, hanuku tamago, kikurage, nori, scllaions', '13', '6'], ['tonkotsu ramen', 'entree', 'rich, shoyi seasoned niman ranch pork bone stock; slow braised niman ranch pork belly, hanjuku tamago, kikurage, nori, spring radish, scallions', '13', '6'], ['burnt garlic tonkotsu ramen', 'entree', 'rich, shoyi and burnt garlic seasoned niman ranch pork bone stock; slow braised niman ranch pork belly, hanjuku tamago, kikurage, sweet corn, nori, scallions', '14', '6'], ['vegetarian curry + king trumpet mushroom ramen', 'entree', 'house curry blend + vegan dashi; fried king trumpet mushroom, tempura fried tofu, mung bean sprouts, kikurage, nori, scallions', '13', '7'], ['truffle butter ramen', 'entree', 'rich, shoyu seasoned niman ranch prok bone stock; truffle compound butter, slow braised niman ranch pork belly, kikurage, sweet corn, nori, scallions', '14', '7'], ['green tea', 'drinks', 'green tea', '2.5', '1'], ['coke', 'drinks', 'Coca Cola soda', '2', '1'], ['black sesame ice cream', 'desserts', 'house-made black sesame ice cream, valrhona chocolate threads, complimentary hojicha', '5', '2'], ['matcha ice cream', 'desserts', 'house-made matcha ice cream, white chocolate pearls; complimentary hojicha', '5', '2'], ['mango mochi ice cream', 'desserts', 'two rice-cake bonbons filled with strawberry ice cream; complimentary hojicha', '5', '2'], ['strawberry mochi ice cream', 'desserts', 'two rice-cake bonbons filled with strawberry ice cream; complimentary hojicha', '5', '2'], ['black sesame creme brulee', 'desserts', 'house made black sesame infused creme brulee; complimentary hojicha', '6', '3']]\n"
     ]
    }
   ],
   "source": [
    "menu = []\n",
    "csvpath = Path('menu_data.csv')\n",
    "with open(csvpath , 'r') as csvfile:\n",
    "\n",
    "    csvreader = csv.reader(csvfile, delimiter=',')\n",
    "    header = next(csvreader)\n",
    "    menu.append(header)\n",
    "    for row in csvreader:\n",
    "        menu.append(row)\n",
    "\n",
    "print(menu)\n",
    "csvfile.close()"
   ]
  },
  {
   "cell_type": "code",
   "execution_count": 3,
   "id": "b15062da-1bc2-4018-929c-db1783224b22",
   "metadata": {},
   "outputs": [],
   "source": [
    "sales = []\n",
    "csvpath = Path('sales_data.csv')\n",
    "with open(csvpath , 'r') as csvfile:\n",
    "\n",
    "    csvreader = csv.reader(csvfile, delimiter=',')\n",
    "    header = next(csvreader)\n",
    "    sales.append(header)\n",
    "    for row in csvreader:\n",
    "        sales.append(row)\n",
    "\n",
    "# print(sales)\n",
    "csvfile.close()"
   ]
  },
  {
   "cell_type": "code",
   "execution_count": 4,
   "id": "0766e5cf-f344-4520-9d13-db548c14c28e",
   "metadata": {},
   "outputs": [],
   "source": [
    "# sales.append(['1', '01-01-2017', '7437926611570799', '1', 'afsjdk haskdfkasdfhkasdfk'])\n",
    "# print(sales[-1])"
   ]
  },
  {
   "cell_type": "code",
   "execution_count": 5,
   "id": "68e2cbaa-752e-4314-8a84-0fad0f1ef860",
   "metadata": {},
   "outputs": [
    {
     "name": "stdout",
     "output_type": "stream",
     "text": [
      "\n",
      "{'burnt garlic tonkotsu ramen': {'01-count': 9070,\n",
      "                                 '02-revenue': 126980.0,\n",
      "                                 '03-cogs': 54420.0,\n",
      "                                 '04-profit': 72560.0},\n",
      " 'miso crab ramen': {'01-count': 8890,\n",
      "                     '02-revenue': 106680.0,\n",
      "                     '03-cogs': 53340.0,\n",
      "                     '04-profit': 53340.0},\n",
      " 'nagomi shoyu': {'01-count': 9132,\n",
      "                  '02-revenue': 100452.0,\n",
      "                  '03-cogs': 45660.0,\n",
      "                  '04-profit': 54792.0},\n",
      " 'shio ramen': {'01-count': 9180,\n",
      "                '02-revenue': 100980.0,\n",
      "                '03-cogs': 45900.0,\n",
      "                '04-profit': 55080.0},\n",
      " 'soft-shell miso crab ramen': {'01-count': 9130,\n",
      "                                '02-revenue': 127820.0,\n",
      "                                '03-cogs': 63910.0,\n",
      "                                '04-profit': 63910.0},\n",
      " 'spicy miso ramen': {'01-count': 9238,\n",
      "                      '02-revenue': 110856.0,\n",
      "                      '03-cogs': 46190.0,\n",
      "                      '04-profit': 64666.0},\n",
      " 'tonkotsu ramen': {'01-count': 9288,\n",
      "                    '02-revenue': 120744.0,\n",
      "                    '03-cogs': 55728.0,\n",
      "                    '04-profit': 65016.0},\n",
      " 'tori paitan ramen': {'01-count': 9156,\n",
      "                       '02-revenue': 119028.0,\n",
      "                       '03-cogs': 54936.0,\n",
      "                       '04-profit': 64092.0},\n",
      " 'truffle butter ramen': {'01-count': 8982,\n",
      "                          '02-revenue': 125748.0,\n",
      "                          '03-cogs': 62874.0,\n",
      "                          '04-profit': 62874.0},\n",
      " 'vegetarian curry + king trumpet mushroom ramen': {'01-count': 8824,\n",
      "                                                    '02-revenue': 114712.0,\n",
      "                                                    '03-cogs': 61768.0,\n",
      "                                                    '04-profit': 52944.0},\n",
      " 'vegetarian spicy miso': {'01-count': 9216,\n",
      "                           '02-revenue': 110592.0,\n",
      "                           '03-cogs': 46080.0,\n",
      "                           '04-profit': 64512.0}}\n"
     ]
    }
   ],
   "source": [
    "report = {}\n",
    "item_not_found = True\n",
    "\n",
    "for item in sales[1:]:\n",
    "    quantity = int(item[3])\n",
    "    menu_item = item[4]\n",
    "\n",
    "    if menu_item not in report:\n",
    "        report[menu_item] = {\n",
    "            \"01-count\": 0,\n",
    "            \"02-revenue\": 0,\n",
    "            \"03-cogs\": 0,\n",
    "            \"04-profit\": 0,\n",
    "        }\n",
    "\n",
    "    report[menu_item]['01-count'] += quantity\n",
    "    \n",
    "#     if menu_item not in menu[4]:\n",
    "    \n",
    "    for items in menu:\n",
    "        \n",
    "        if items[0] == menu_item:\n",
    "            price = float(items[3])\n",
    "            cost = float(items[4])\n",
    "            profit = price - cost\n",
    "\n",
    "            report[menu_item]['02-revenue'] += price * quantity\n",
    "            report[menu_item][\"03-cogs\"] += cost * quantity\n",
    "            report[menu_item][\"04-profit\"] += profit * quantity\n",
    "#             item_not_found = False\n",
    "            \n",
    "#         if item_not_found:\n",
    "#             print(items[0], menu_item)\n",
    "print()\n",
    "pprint.pprint(report)\n",
    "# print(report)"
   ]
  }
 ],
 "metadata": {
  "kernelspec": {
   "display_name": "Python 3",
   "language": "python",
   "name": "python3"
  },
  "language_info": {
   "codemirror_mode": {
    "name": "ipython",
    "version": 3
   },
   "file_extension": ".py",
   "mimetype": "text/x-python",
   "name": "python",
   "nbconvert_exporter": "python",
   "pygments_lexer": "ipython3",
   "version": "3.8.8"
  }
 },
 "nbformat": 4,
 "nbformat_minor": 5
}
