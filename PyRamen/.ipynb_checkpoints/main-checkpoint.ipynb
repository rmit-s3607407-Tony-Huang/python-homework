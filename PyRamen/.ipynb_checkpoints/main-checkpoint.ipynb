{
 "cells": [
  {
   "cell_type": "code",
   "execution_count": 1,
   "id": "d2425983-d9f3-4c66-8c1b-666c20606115",
   "metadata": {},
   "outputs": [],
   "source": [
    "# Import the the required libraries\n",
    "from pathlib import Path\n",
    "import csv\n",
    "import pprint\n",
    "import json"
   ]
  },
  {
   "cell_type": "code",
   "execution_count": 2,
   "id": "95ae7011-6075-4659-947f-d090f3937695",
   "metadata": {},
   "outputs": [],
   "source": [
    "# Create a list for menu\n",
    "menu = []\n",
    "\n",
    "# Read the csv file for menu_data and store data into menu list\n",
    "csvpath = Path('menu_data.csv')\n",
    "with open(csvpath , 'r') as csvfile:\n",
    "    csvreader = csv.reader(csvfile, delimiter=',')\n",
    "    header = next(csvreader)\n",
    "    menu.append(header)\n",
    "    for row in csvreader:\n",
    "        menu.append(row)\n",
    "\n",
    "# print(menu)\n",
    "csvfile.close()"
   ]
  },
  {
   "cell_type": "code",
   "execution_count": 3,
   "id": "b15062da-1bc2-4018-929c-db1783224b22",
   "metadata": {},
   "outputs": [],
   "source": [
    "# Create a list for sales\n",
    "sales = []\n",
    "\n",
    "# Read the csv fild for sales_data and store data into sales list\n",
    "csvpath = Path('sales_data.csv')\n",
    "with open(csvpath , 'r') as csvfile:\n",
    "    csvreader = csv.reader(csvfile, delimiter=',')\n",
    "    header = next(csvreader)\n",
    "    sales.append(header)\n",
    "    for row in csvreader:\n",
    "        sales.append(row)\n",
    "\n",
    "# print(sales)\n",
    "csvfile.close()"
   ]
  },
  {
   "cell_type": "code",
   "execution_count": 4,
   "id": "68e2cbaa-752e-4314-8a84-0fad0f1ef860",
   "metadata": {},
   "outputs": [
    {
     "name": "stdout",
     "output_type": "stream",
     "text": [
      "\n",
      "{'burnt garlic tonkotsu ramen': {'01-count': 9070,\n",
      "                                 '02-revenue': 126980.0,\n",
      "                                 '03-cogs': 54420.0,\n",
      "                                 '04-profit': 72560.0},\n",
      " 'miso crab ramen': {'01-count': 8890,\n",
      "                     '02-revenue': 106680.0,\n",
      "                     '03-cogs': 53340.0,\n",
      "                     '04-profit': 53340.0},\n",
      " 'nagomi shoyu': {'01-count': 9132,\n",
      "                  '02-revenue': 100452.0,\n",
      "                  '03-cogs': 45660.0,\n",
      "                  '04-profit': 54792.0},\n",
      " 'shio ramen': {'01-count': 9180,\n",
      "                '02-revenue': 100980.0,\n",
      "                '03-cogs': 45900.0,\n",
      "                '04-profit': 55080.0},\n",
      " 'soft-shell miso crab ramen': {'01-count': 9130,\n",
      "                                '02-revenue': 127820.0,\n",
      "                                '03-cogs': 63910.0,\n",
      "                                '04-profit': 63910.0},\n",
      " 'spicy miso ramen': {'01-count': 9238,\n",
      "                      '02-revenue': 110856.0,\n",
      "                      '03-cogs': 46190.0,\n",
      "                      '04-profit': 64666.0},\n",
      " 'tonkotsu ramen': {'01-count': 9288,\n",
      "                    '02-revenue': 120744.0,\n",
      "                    '03-cogs': 55728.0,\n",
      "                    '04-profit': 65016.0},\n",
      " 'tori paitan ramen': {'01-count': 9156,\n",
      "                       '02-revenue': 119028.0,\n",
      "                       '03-cogs': 54936.0,\n",
      "                       '04-profit': 64092.0},\n",
      " 'truffle butter ramen': {'01-count': 8982,\n",
      "                          '02-revenue': 125748.0,\n",
      "                          '03-cogs': 62874.0,\n",
      "                          '04-profit': 62874.0},\n",
      " 'vegetarian curry + king trumpet mushroom ramen': {'01-count': 8824,\n",
      "                                                    '02-revenue': 114712.0,\n",
      "                                                    '03-cogs': 61768.0,\n",
      "                                                    '04-profit': 52944.0},\n",
      " 'vegetarian spicy miso': {'01-count': 9216,\n",
      "                           '02-revenue': 110592.0,\n",
      "                           '03-cogs': 46080.0,\n",
      "                           '04-profit': 64512.0}}\n"
     ]
    }
   ],
   "source": [
    "# Create a dict for report\n",
    "report = {}\n",
    "\n",
    "# Iterate through sales list\n",
    "for item in sales[1:]:\n",
    "    \n",
    "    # Store quantity and menu_item into their own variables\n",
    "    quantity = int(item[3])\n",
    "    menu_item = item[4]\n",
    "\n",
    "    # Create nested dict if one doesnt exist for the item\n",
    "    if menu_item not in report:\n",
    "        report[menu_item] = {\n",
    "            \"01-count\": 0,\n",
    "            \"02-revenue\": 0,\n",
    "            \"03-cogs\": 0,\n",
    "            \"04-profit\": 0,\n",
    "        }\n",
    "    \n",
    "    # Update the quantity\n",
    "    report[menu_item]['01-count'] += quantity\n",
    "    \n",
    "    # Find the menu item from menu list to calculate profit from price and cost\n",
    "    for items in menu:\n",
    "        \n",
    "        if items[0] == menu_item:\n",
    "            price = float(items[3])\n",
    "            cost = float(items[4])\n",
    "            profit = price - cost\n",
    "            \n",
    "            # Update the values\n",
    "            report[menu_item]['02-revenue'] += price * quantity\n",
    "            report[menu_item][\"03-cogs\"] += cost * quantity\n",
    "            report[menu_item][\"04-profit\"] += profit * quantity\n",
    "\n",
    "print()\n",
    "pprint.pprint(report)\n",
    "# print(report)"
   ]
  },
  {
   "cell_type": "code",
   "execution_count": 5,
   "id": "93f973bb-38cb-45e1-a4a1-71d78c9c4f89",
   "metadata": {},
   "outputs": [],
   "source": [
    "\n",
    "\n",
    "with open('output.txt', 'w') as convert_file: \n",
    "     convert_file.write(json.dumps(report))\n",
    "convert_file.close()"
   ]
  }
 ],
 "metadata": {
  "kernelspec": {
   "display_name": "Python 3",
   "language": "python",
   "name": "python3"
  },
  "language_info": {
   "codemirror_mode": {
    "name": "ipython",
    "version": 3
   },
   "file_extension": ".py",
   "mimetype": "text/x-python",
   "name": "python",
   "nbconvert_exporter": "python",
   "pygments_lexer": "ipython3",
   "version": "3.8.8"
  }
 },
 "nbformat": 4,
 "nbformat_minor": 5
}
